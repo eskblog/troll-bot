{
  "nbformat": 4,
  "nbformat_minor": 0,
  "metadata": {
    "colab": {
      "name": "trolls-tweet-generator",
      "provenance": [],
      "collapsed_sections": [],
      "toc_visible": true,
      "mount_file_id": "13-TvziACGTlcN3t6uSTKyEX_k8eIREEb",
      "authorship_tag": "ABX9TyN0v+C43zZ7QmDoYxwboQbz",
      "include_colab_link": true
    },
    "kernelspec": {
      "name": "python3",
      "display_name": "Python 3"
    },
    "accelerator": "GPU",
    "widgets": {
      "application/vnd.jupyter.widget-state+json": {
        "ed58794658c041df87fdd005291f14dc": {
          "model_module": "@jupyter-widgets/controls",
          "model_name": "HBoxModel",
          "state": {
            "_view_name": "HBoxView",
            "_dom_classes": [],
            "_model_name": "HBoxModel",
            "_view_module": "@jupyter-widgets/controls",
            "_model_module_version": "1.5.0",
            "_view_count": null,
            "_view_module_version": "1.5.0",
            "box_style": "",
            "layout": "IPY_MODEL_03d4243923564491bf5b2f1d4751a7b9",
            "_model_module": "@jupyter-widgets/controls",
            "children": [
              "IPY_MODEL_54811859d53f4e65b5c38f4762bb679b",
              "IPY_MODEL_7f98de5051bc40178b122c9e585e4314"
            ]
          }
        },
        "03d4243923564491bf5b2f1d4751a7b9": {
          "model_module": "@jupyter-widgets/base",
          "model_name": "LayoutModel",
          "state": {
            "_view_name": "LayoutView",
            "grid_template_rows": null,
            "right": null,
            "justify_content": null,
            "_view_module": "@jupyter-widgets/base",
            "overflow": null,
            "_model_module_version": "1.2.0",
            "_view_count": null,
            "flex_flow": null,
            "width": null,
            "min_width": null,
            "border": null,
            "align_items": null,
            "bottom": null,
            "_model_module": "@jupyter-widgets/base",
            "top": null,
            "grid_column": null,
            "overflow_y": null,
            "overflow_x": null,
            "grid_auto_flow": null,
            "grid_area": null,
            "grid_template_columns": null,
            "flex": null,
            "_model_name": "LayoutModel",
            "justify_items": null,
            "grid_row": null,
            "max_height": null,
            "align_content": null,
            "visibility": null,
            "align_self": null,
            "height": null,
            "min_height": null,
            "padding": null,
            "grid_auto_rows": null,
            "grid_gap": null,
            "max_width": null,
            "order": null,
            "_view_module_version": "1.2.0",
            "grid_template_areas": null,
            "object_position": null,
            "object_fit": null,
            "grid_auto_columns": null,
            "margin": null,
            "display": null,
            "left": null
          }
        },
        "54811859d53f4e65b5c38f4762bb679b": {
          "model_module": "@jupyter-widgets/controls",
          "model_name": "FloatProgressModel",
          "state": {
            "_view_name": "ProgressView",
            "style": "IPY_MODEL_7d9c461f5ad64843bd0b5756980f8867",
            "_dom_classes": [],
            "description": "Downloading: 100%",
            "_model_name": "FloatProgressModel",
            "bar_style": "success",
            "max": 1042301,
            "_view_module": "@jupyter-widgets/controls",
            "_model_module_version": "1.5.0",
            "value": 1042301,
            "_view_count": null,
            "_view_module_version": "1.5.0",
            "orientation": "horizontal",
            "min": 0,
            "description_tooltip": null,
            "_model_module": "@jupyter-widgets/controls",
            "layout": "IPY_MODEL_ec3223232900470893313c9d269c665d"
          }
        },
        "7f98de5051bc40178b122c9e585e4314": {
          "model_module": "@jupyter-widgets/controls",
          "model_name": "HTMLModel",
          "state": {
            "_view_name": "HTMLView",
            "style": "IPY_MODEL_260e11e628a041cbb41cc4a7c643b657",
            "_dom_classes": [],
            "description": "",
            "_model_name": "HTMLModel",
            "placeholder": "​",
            "_view_module": "@jupyter-widgets/controls",
            "_model_module_version": "1.5.0",
            "value": " 1.04M/1.04M [00:00&lt;00:00, 1.79MB/s]",
            "_view_count": null,
            "_view_module_version": "1.5.0",
            "description_tooltip": null,
            "_model_module": "@jupyter-widgets/controls",
            "layout": "IPY_MODEL_a8c18e339687407993c278ee2a0819d5"
          }
        },
        "7d9c461f5ad64843bd0b5756980f8867": {
          "model_module": "@jupyter-widgets/controls",
          "model_name": "ProgressStyleModel",
          "state": {
            "_view_name": "StyleView",
            "_model_name": "ProgressStyleModel",
            "description_width": "initial",
            "_view_module": "@jupyter-widgets/base",
            "_model_module_version": "1.5.0",
            "_view_count": null,
            "_view_module_version": "1.2.0",
            "bar_color": null,
            "_model_module": "@jupyter-widgets/controls"
          }
        },
        "ec3223232900470893313c9d269c665d": {
          "model_module": "@jupyter-widgets/base",
          "model_name": "LayoutModel",
          "state": {
            "_view_name": "LayoutView",
            "grid_template_rows": null,
            "right": null,
            "justify_content": null,
            "_view_module": "@jupyter-widgets/base",
            "overflow": null,
            "_model_module_version": "1.2.0",
            "_view_count": null,
            "flex_flow": null,
            "width": null,
            "min_width": null,
            "border": null,
            "align_items": null,
            "bottom": null,
            "_model_module": "@jupyter-widgets/base",
            "top": null,
            "grid_column": null,
            "overflow_y": null,
            "overflow_x": null,
            "grid_auto_flow": null,
            "grid_area": null,
            "grid_template_columns": null,
            "flex": null,
            "_model_name": "LayoutModel",
            "justify_items": null,
            "grid_row": null,
            "max_height": null,
            "align_content": null,
            "visibility": null,
            "align_self": null,
            "height": null,
            "min_height": null,
            "padding": null,
            "grid_auto_rows": null,
            "grid_gap": null,
            "max_width": null,
            "order": null,
            "_view_module_version": "1.2.0",
            "grid_template_areas": null,
            "object_position": null,
            "object_fit": null,
            "grid_auto_columns": null,
            "margin": null,
            "display": null,
            "left": null
          }
        },
        "260e11e628a041cbb41cc4a7c643b657": {
          "model_module": "@jupyter-widgets/controls",
          "model_name": "DescriptionStyleModel",
          "state": {
            "_view_name": "StyleView",
            "_model_name": "DescriptionStyleModel",
            "description_width": "",
            "_view_module": "@jupyter-widgets/base",
            "_model_module_version": "1.5.0",
            "_view_count": null,
            "_view_module_version": "1.2.0",
            "_model_module": "@jupyter-widgets/controls"
          }
        },
        "a8c18e339687407993c278ee2a0819d5": {
          "model_module": "@jupyter-widgets/base",
          "model_name": "LayoutModel",
          "state": {
            "_view_name": "LayoutView",
            "grid_template_rows": null,
            "right": null,
            "justify_content": null,
            "_view_module": "@jupyter-widgets/base",
            "overflow": null,
            "_model_module_version": "1.2.0",
            "_view_count": null,
            "flex_flow": null,
            "width": null,
            "min_width": null,
            "border": null,
            "align_items": null,
            "bottom": null,
            "_model_module": "@jupyter-widgets/base",
            "top": null,
            "grid_column": null,
            "overflow_y": null,
            "overflow_x": null,
            "grid_auto_flow": null,
            "grid_area": null,
            "grid_template_columns": null,
            "flex": null,
            "_model_name": "LayoutModel",
            "justify_items": null,
            "grid_row": null,
            "max_height": null,
            "align_content": null,
            "visibility": null,
            "align_self": null,
            "height": null,
            "min_height": null,
            "padding": null,
            "grid_auto_rows": null,
            "grid_gap": null,
            "max_width": null,
            "order": null,
            "_view_module_version": "1.2.0",
            "grid_template_areas": null,
            "object_position": null,
            "object_fit": null,
            "grid_auto_columns": null,
            "margin": null,
            "display": null,
            "left": null
          }
        },
        "66e6d31f548b416c831a8cb22980926e": {
          "model_module": "@jupyter-widgets/controls",
          "model_name": "HBoxModel",
          "state": {
            "_view_name": "HBoxView",
            "_dom_classes": [],
            "_model_name": "HBoxModel",
            "_view_module": "@jupyter-widgets/controls",
            "_model_module_version": "1.5.0",
            "_view_count": null,
            "_view_module_version": "1.5.0",
            "box_style": "",
            "layout": "IPY_MODEL_2f000d1e87f3480ca67d697ff04c3be0",
            "_model_module": "@jupyter-widgets/controls",
            "children": [
              "IPY_MODEL_bf93aa2aeccd4455be25a899a8a29d91",
              "IPY_MODEL_243b2841fb1d444ab07ab4476333699d"
            ]
          }
        },
        "2f000d1e87f3480ca67d697ff04c3be0": {
          "model_module": "@jupyter-widgets/base",
          "model_name": "LayoutModel",
          "state": {
            "_view_name": "LayoutView",
            "grid_template_rows": null,
            "right": null,
            "justify_content": null,
            "_view_module": "@jupyter-widgets/base",
            "overflow": null,
            "_model_module_version": "1.2.0",
            "_view_count": null,
            "flex_flow": null,
            "width": null,
            "min_width": null,
            "border": null,
            "align_items": null,
            "bottom": null,
            "_model_module": "@jupyter-widgets/base",
            "top": null,
            "grid_column": null,
            "overflow_y": null,
            "overflow_x": null,
            "grid_auto_flow": null,
            "grid_area": null,
            "grid_template_columns": null,
            "flex": null,
            "_model_name": "LayoutModel",
            "justify_items": null,
            "grid_row": null,
            "max_height": null,
            "align_content": null,
            "visibility": null,
            "align_self": null,
            "height": null,
            "min_height": null,
            "padding": null,
            "grid_auto_rows": null,
            "grid_gap": null,
            "max_width": null,
            "order": null,
            "_view_module_version": "1.2.0",
            "grid_template_areas": null,
            "object_position": null,
            "object_fit": null,
            "grid_auto_columns": null,
            "margin": null,
            "display": null,
            "left": null
          }
        },
        "bf93aa2aeccd4455be25a899a8a29d91": {
          "model_module": "@jupyter-widgets/controls",
          "model_name": "FloatProgressModel",
          "state": {
            "_view_name": "ProgressView",
            "style": "IPY_MODEL_41e4630e0d5442fd9850a31eb0c3cc95",
            "_dom_classes": [],
            "description": "Downloading: 100%",
            "_model_name": "FloatProgressModel",
            "bar_style": "success",
            "max": 456318,
            "_view_module": "@jupyter-widgets/controls",
            "_model_module_version": "1.5.0",
            "value": 456318,
            "_view_count": null,
            "_view_module_version": "1.5.0",
            "orientation": "horizontal",
            "min": 0,
            "description_tooltip": null,
            "_model_module": "@jupyter-widgets/controls",
            "layout": "IPY_MODEL_5b29c6d6a545414bb93cd59076349c21"
          }
        },
        "243b2841fb1d444ab07ab4476333699d": {
          "model_module": "@jupyter-widgets/controls",
          "model_name": "HTMLModel",
          "state": {
            "_view_name": "HTMLView",
            "style": "IPY_MODEL_c7db8c9a556a4bad870954a6c83396ac",
            "_dom_classes": [],
            "description": "",
            "_model_name": "HTMLModel",
            "placeholder": "​",
            "_view_module": "@jupyter-widgets/controls",
            "_model_module_version": "1.5.0",
            "value": " 456k/456k [00:00&lt;00:00, 1.11MB/s]",
            "_view_count": null,
            "_view_module_version": "1.5.0",
            "description_tooltip": null,
            "_model_module": "@jupyter-widgets/controls",
            "layout": "IPY_MODEL_8d96adbea0444478b3ed1d61e27114e4"
          }
        },
        "41e4630e0d5442fd9850a31eb0c3cc95": {
          "model_module": "@jupyter-widgets/controls",
          "model_name": "ProgressStyleModel",
          "state": {
            "_view_name": "StyleView",
            "_model_name": "ProgressStyleModel",
            "description_width": "initial",
            "_view_module": "@jupyter-widgets/base",
            "_model_module_version": "1.5.0",
            "_view_count": null,
            "_view_module_version": "1.2.0",
            "bar_color": null,
            "_model_module": "@jupyter-widgets/controls"
          }
        },
        "5b29c6d6a545414bb93cd59076349c21": {
          "model_module": "@jupyter-widgets/base",
          "model_name": "LayoutModel",
          "state": {
            "_view_name": "LayoutView",
            "grid_template_rows": null,
            "right": null,
            "justify_content": null,
            "_view_module": "@jupyter-widgets/base",
            "overflow": null,
            "_model_module_version": "1.2.0",
            "_view_count": null,
            "flex_flow": null,
            "width": null,
            "min_width": null,
            "border": null,
            "align_items": null,
            "bottom": null,
            "_model_module": "@jupyter-widgets/base",
            "top": null,
            "grid_column": null,
            "overflow_y": null,
            "overflow_x": null,
            "grid_auto_flow": null,
            "grid_area": null,
            "grid_template_columns": null,
            "flex": null,
            "_model_name": "LayoutModel",
            "justify_items": null,
            "grid_row": null,
            "max_height": null,
            "align_content": null,
            "visibility": null,
            "align_self": null,
            "height": null,
            "min_height": null,
            "padding": null,
            "grid_auto_rows": null,
            "grid_gap": null,
            "max_width": null,
            "order": null,
            "_view_module_version": "1.2.0",
            "grid_template_areas": null,
            "object_position": null,
            "object_fit": null,
            "grid_auto_columns": null,
            "margin": null,
            "display": null,
            "left": null
          }
        },
        "c7db8c9a556a4bad870954a6c83396ac": {
          "model_module": "@jupyter-widgets/controls",
          "model_name": "DescriptionStyleModel",
          "state": {
            "_view_name": "StyleView",
            "_model_name": "DescriptionStyleModel",
            "description_width": "",
            "_view_module": "@jupyter-widgets/base",
            "_model_module_version": "1.5.0",
            "_view_count": null,
            "_view_module_version": "1.2.0",
            "_model_module": "@jupyter-widgets/controls"
          }
        },
        "8d96adbea0444478b3ed1d61e27114e4": {
          "model_module": "@jupyter-widgets/base",
          "model_name": "LayoutModel",
          "state": {
            "_view_name": "LayoutView",
            "grid_template_rows": null,
            "right": null,
            "justify_content": null,
            "_view_module": "@jupyter-widgets/base",
            "overflow": null,
            "_model_module_version": "1.2.0",
            "_view_count": null,
            "flex_flow": null,
            "width": null,
            "min_width": null,
            "border": null,
            "align_items": null,
            "bottom": null,
            "_model_module": "@jupyter-widgets/base",
            "top": null,
            "grid_column": null,
            "overflow_y": null,
            "overflow_x": null,
            "grid_auto_flow": null,
            "grid_area": null,
            "grid_template_columns": null,
            "flex": null,
            "_model_name": "LayoutModel",
            "justify_items": null,
            "grid_row": null,
            "max_height": null,
            "align_content": null,
            "visibility": null,
            "align_self": null,
            "height": null,
            "min_height": null,
            "padding": null,
            "grid_auto_rows": null,
            "grid_gap": null,
            "max_width": null,
            "order": null,
            "_view_module_version": "1.2.0",
            "grid_template_areas": null,
            "object_position": null,
            "object_fit": null,
            "grid_auto_columns": null,
            "margin": null,
            "display": null,
            "left": null
          }
        },
        "c1775c44c4f74742b17505697e21efc8": {
          "model_module": "@jupyter-widgets/controls",
          "model_name": "HBoxModel",
          "state": {
            "_view_name": "HBoxView",
            "_dom_classes": [],
            "_model_name": "HBoxModel",
            "_view_module": "@jupyter-widgets/controls",
            "_model_module_version": "1.5.0",
            "_view_count": null,
            "_view_module_version": "1.5.0",
            "box_style": "",
            "layout": "IPY_MODEL_859e091db88d4c6ba8d7688ac15b142c",
            "_model_module": "@jupyter-widgets/controls",
            "children": [
              "IPY_MODEL_aacde4562d104328aac5276fb992d617",
              "IPY_MODEL_e6d3db45e41544e6b79ff34d73ee0f25"
            ]
          }
        },
        "859e091db88d4c6ba8d7688ac15b142c": {
          "model_module": "@jupyter-widgets/base",
          "model_name": "LayoutModel",
          "state": {
            "_view_name": "LayoutView",
            "grid_template_rows": null,
            "right": null,
            "justify_content": null,
            "_view_module": "@jupyter-widgets/base",
            "overflow": null,
            "_model_module_version": "1.2.0",
            "_view_count": null,
            "flex_flow": null,
            "width": null,
            "min_width": null,
            "border": null,
            "align_items": null,
            "bottom": null,
            "_model_module": "@jupyter-widgets/base",
            "top": null,
            "grid_column": null,
            "overflow_y": null,
            "overflow_x": null,
            "grid_auto_flow": null,
            "grid_area": null,
            "grid_template_columns": null,
            "flex": null,
            "_model_name": "LayoutModel",
            "justify_items": null,
            "grid_row": null,
            "max_height": null,
            "align_content": null,
            "visibility": null,
            "align_self": null,
            "height": null,
            "min_height": null,
            "padding": null,
            "grid_auto_rows": null,
            "grid_gap": null,
            "max_width": null,
            "order": null,
            "_view_module_version": "1.2.0",
            "grid_template_areas": null,
            "object_position": null,
            "object_fit": null,
            "grid_auto_columns": null,
            "margin": null,
            "display": null,
            "left": null
          }
        },
        "aacde4562d104328aac5276fb992d617": {
          "model_module": "@jupyter-widgets/controls",
          "model_name": "FloatProgressModel",
          "state": {
            "_view_name": "ProgressView",
            "style": "IPY_MODEL_b6f625390bbe45ffbc3fb05d11b0d547",
            "_dom_classes": [],
            "description": "Downloading: 100%",
            "_model_name": "FloatProgressModel",
            "bar_style": "success",
            "max": 1355256,
            "_view_module": "@jupyter-widgets/controls",
            "_model_module_version": "1.5.0",
            "value": 1355256,
            "_view_count": null,
            "_view_module_version": "1.5.0",
            "orientation": "horizontal",
            "min": 0,
            "description_tooltip": null,
            "_model_module": "@jupyter-widgets/controls",
            "layout": "IPY_MODEL_88f770b0d76f4200a641e9d04bb3ecec"
          }
        },
        "e6d3db45e41544e6b79ff34d73ee0f25": {
          "model_module": "@jupyter-widgets/controls",
          "model_name": "HTMLModel",
          "state": {
            "_view_name": "HTMLView",
            "style": "IPY_MODEL_e776e8bd741f4e1fab8924ef24c9d898",
            "_dom_classes": [],
            "description": "",
            "_model_name": "HTMLModel",
            "placeholder": "​",
            "_view_module": "@jupyter-widgets/controls",
            "_model_module_version": "1.5.0",
            "value": " 1.36M/1.36M [00:00&lt;00:00, 7.27MB/s]",
            "_view_count": null,
            "_view_module_version": "1.5.0",
            "description_tooltip": null,
            "_model_module": "@jupyter-widgets/controls",
            "layout": "IPY_MODEL_d7e347e44c8541499a8372c9f341d84d"
          }
        },
        "b6f625390bbe45ffbc3fb05d11b0d547": {
          "model_module": "@jupyter-widgets/controls",
          "model_name": "ProgressStyleModel",
          "state": {
            "_view_name": "StyleView",
            "_model_name": "ProgressStyleModel",
            "description_width": "initial",
            "_view_module": "@jupyter-widgets/base",
            "_model_module_version": "1.5.0",
            "_view_count": null,
            "_view_module_version": "1.2.0",
            "bar_color": null,
            "_model_module": "@jupyter-widgets/controls"
          }
        },
        "88f770b0d76f4200a641e9d04bb3ecec": {
          "model_module": "@jupyter-widgets/base",
          "model_name": "LayoutModel",
          "state": {
            "_view_name": "LayoutView",
            "grid_template_rows": null,
            "right": null,
            "justify_content": null,
            "_view_module": "@jupyter-widgets/base",
            "overflow": null,
            "_model_module_version": "1.2.0",
            "_view_count": null,
            "flex_flow": null,
            "width": null,
            "min_width": null,
            "border": null,
            "align_items": null,
            "bottom": null,
            "_model_module": "@jupyter-widgets/base",
            "top": null,
            "grid_column": null,
            "overflow_y": null,
            "overflow_x": null,
            "grid_auto_flow": null,
            "grid_area": null,
            "grid_template_columns": null,
            "flex": null,
            "_model_name": "LayoutModel",
            "justify_items": null,
            "grid_row": null,
            "max_height": null,
            "align_content": null,
            "visibility": null,
            "align_self": null,
            "height": null,
            "min_height": null,
            "padding": null,
            "grid_auto_rows": null,
            "grid_gap": null,
            "max_width": null,
            "order": null,
            "_view_module_version": "1.2.0",
            "grid_template_areas": null,
            "object_position": null,
            "object_fit": null,
            "grid_auto_columns": null,
            "margin": null,
            "display": null,
            "left": null
          }
        },
        "e776e8bd741f4e1fab8924ef24c9d898": {
          "model_module": "@jupyter-widgets/controls",
          "model_name": "DescriptionStyleModel",
          "state": {
            "_view_name": "StyleView",
            "_model_name": "DescriptionStyleModel",
            "description_width": "",
            "_view_module": "@jupyter-widgets/base",
            "_model_module_version": "1.5.0",
            "_view_count": null,
            "_view_module_version": "1.2.0",
            "_model_module": "@jupyter-widgets/controls"
          }
        },
        "d7e347e44c8541499a8372c9f341d84d": {
          "model_module": "@jupyter-widgets/base",
          "model_name": "LayoutModel",
          "state": {
            "_view_name": "LayoutView",
            "grid_template_rows": null,
            "right": null,
            "justify_content": null,
            "_view_module": "@jupyter-widgets/base",
            "overflow": null,
            "_model_module_version": "1.2.0",
            "_view_count": null,
            "flex_flow": null,
            "width": null,
            "min_width": null,
            "border": null,
            "align_items": null,
            "bottom": null,
            "_model_module": "@jupyter-widgets/base",
            "top": null,
            "grid_column": null,
            "overflow_y": null,
            "overflow_x": null,
            "grid_auto_flow": null,
            "grid_area": null,
            "grid_template_columns": null,
            "flex": null,
            "_model_name": "LayoutModel",
            "justify_items": null,
            "grid_row": null,
            "max_height": null,
            "align_content": null,
            "visibility": null,
            "align_self": null,
            "height": null,
            "min_height": null,
            "padding": null,
            "grid_auto_rows": null,
            "grid_gap": null,
            "max_width": null,
            "order": null,
            "_view_module_version": "1.2.0",
            "grid_template_areas": null,
            "object_position": null,
            "object_fit": null,
            "grid_auto_columns": null,
            "margin": null,
            "display": null,
            "left": null
          }
        },
        "16fbe77a159746c4980a729d161f55ca": {
          "model_module": "@jupyter-widgets/controls",
          "model_name": "HBoxModel",
          "state": {
            "_view_name": "HBoxView",
            "_dom_classes": [],
            "_model_name": "HBoxModel",
            "_view_module": "@jupyter-widgets/controls",
            "_model_module_version": "1.5.0",
            "_view_count": null,
            "_view_module_version": "1.5.0",
            "box_style": "",
            "layout": "IPY_MODEL_fbb5f399905946d1bb0537ffa59a9198",
            "_model_module": "@jupyter-widgets/controls",
            "children": [
              "IPY_MODEL_cfe82e2ee08c4611a3cdd6bcc94593a0",
              "IPY_MODEL_81266d836a61486ab3391d59bc2a4233"
            ]
          }
        },
        "fbb5f399905946d1bb0537ffa59a9198": {
          "model_module": "@jupyter-widgets/base",
          "model_name": "LayoutModel",
          "state": {
            "_view_name": "LayoutView",
            "grid_template_rows": null,
            "right": null,
            "justify_content": null,
            "_view_module": "@jupyter-widgets/base",
            "overflow": null,
            "_model_module_version": "1.2.0",
            "_view_count": null,
            "flex_flow": null,
            "width": null,
            "min_width": null,
            "border": null,
            "align_items": null,
            "bottom": null,
            "_model_module": "@jupyter-widgets/base",
            "top": null,
            "grid_column": null,
            "overflow_y": null,
            "overflow_x": null,
            "grid_auto_flow": null,
            "grid_area": null,
            "grid_template_columns": null,
            "flex": null,
            "_model_name": "LayoutModel",
            "justify_items": null,
            "grid_row": null,
            "max_height": null,
            "align_content": null,
            "visibility": null,
            "align_self": null,
            "height": null,
            "min_height": null,
            "padding": null,
            "grid_auto_rows": null,
            "grid_gap": null,
            "max_width": null,
            "order": null,
            "_view_module_version": "1.2.0",
            "grid_template_areas": null,
            "object_position": null,
            "object_fit": null,
            "grid_auto_columns": null,
            "margin": null,
            "display": null,
            "left": null
          }
        },
        "cfe82e2ee08c4611a3cdd6bcc94593a0": {
          "model_module": "@jupyter-widgets/controls",
          "model_name": "FloatProgressModel",
          "state": {
            "_view_name": "ProgressView",
            "style": "IPY_MODEL_8e3c5fa15bd649f0a2290d4c61d25574",
            "_dom_classes": [],
            "description": "Downloading: 100%",
            "_model_name": "FloatProgressModel",
            "bar_style": "success",
            "max": 665,
            "_view_module": "@jupyter-widgets/controls",
            "_model_module_version": "1.5.0",
            "value": 665,
            "_view_count": null,
            "_view_module_version": "1.5.0",
            "orientation": "horizontal",
            "min": 0,
            "description_tooltip": null,
            "_model_module": "@jupyter-widgets/controls",
            "layout": "IPY_MODEL_33b55db51455450fbbe672917ef969f4"
          }
        },
        "81266d836a61486ab3391d59bc2a4233": {
          "model_module": "@jupyter-widgets/controls",
          "model_name": "HTMLModel",
          "state": {
            "_view_name": "HTMLView",
            "style": "IPY_MODEL_1edafd2dfda642e8bbfcc70b3e1f76c3",
            "_dom_classes": [],
            "description": "",
            "_model_name": "HTMLModel",
            "placeholder": "​",
            "_view_module": "@jupyter-widgets/controls",
            "_model_module_version": "1.5.0",
            "value": " 665/665 [00:00&lt;00:00, 1.15kB/s]",
            "_view_count": null,
            "_view_module_version": "1.5.0",
            "description_tooltip": null,
            "_model_module": "@jupyter-widgets/controls",
            "layout": "IPY_MODEL_067dd1f05915413fb4aa85332fc5da61"
          }
        },
        "8e3c5fa15bd649f0a2290d4c61d25574": {
          "model_module": "@jupyter-widgets/controls",
          "model_name": "ProgressStyleModel",
          "state": {
            "_view_name": "StyleView",
            "_model_name": "ProgressStyleModel",
            "description_width": "initial",
            "_view_module": "@jupyter-widgets/base",
            "_model_module_version": "1.5.0",
            "_view_count": null,
            "_view_module_version": "1.2.0",
            "bar_color": null,
            "_model_module": "@jupyter-widgets/controls"
          }
        },
        "33b55db51455450fbbe672917ef969f4": {
          "model_module": "@jupyter-widgets/base",
          "model_name": "LayoutModel",
          "state": {
            "_view_name": "LayoutView",
            "grid_template_rows": null,
            "right": null,
            "justify_content": null,
            "_view_module": "@jupyter-widgets/base",
            "overflow": null,
            "_model_module_version": "1.2.0",
            "_view_count": null,
            "flex_flow": null,
            "width": null,
            "min_width": null,
            "border": null,
            "align_items": null,
            "bottom": null,
            "_model_module": "@jupyter-widgets/base",
            "top": null,
            "grid_column": null,
            "overflow_y": null,
            "overflow_x": null,
            "grid_auto_flow": null,
            "grid_area": null,
            "grid_template_columns": null,
            "flex": null,
            "_model_name": "LayoutModel",
            "justify_items": null,
            "grid_row": null,
            "max_height": null,
            "align_content": null,
            "visibility": null,
            "align_self": null,
            "height": null,
            "min_height": null,
            "padding": null,
            "grid_auto_rows": null,
            "grid_gap": null,
            "max_width": null,
            "order": null,
            "_view_module_version": "1.2.0",
            "grid_template_areas": null,
            "object_position": null,
            "object_fit": null,
            "grid_auto_columns": null,
            "margin": null,
            "display": null,
            "left": null
          }
        },
        "1edafd2dfda642e8bbfcc70b3e1f76c3": {
          "model_module": "@jupyter-widgets/controls",
          "model_name": "DescriptionStyleModel",
          "state": {
            "_view_name": "StyleView",
            "_model_name": "DescriptionStyleModel",
            "description_width": "",
            "_view_module": "@jupyter-widgets/base",
            "_model_module_version": "1.5.0",
            "_view_count": null,
            "_view_module_version": "1.2.0",
            "_model_module": "@jupyter-widgets/controls"
          }
        },
        "067dd1f05915413fb4aa85332fc5da61": {
          "model_module": "@jupyter-widgets/base",
          "model_name": "LayoutModel",
          "state": {
            "_view_name": "LayoutView",
            "grid_template_rows": null,
            "right": null,
            "justify_content": null,
            "_view_module": "@jupyter-widgets/base",
            "overflow": null,
            "_model_module_version": "1.2.0",
            "_view_count": null,
            "flex_flow": null,
            "width": null,
            "min_width": null,
            "border": null,
            "align_items": null,
            "bottom": null,
            "_model_module": "@jupyter-widgets/base",
            "top": null,
            "grid_column": null,
            "overflow_y": null,
            "overflow_x": null,
            "grid_auto_flow": null,
            "grid_area": null,
            "grid_template_columns": null,
            "flex": null,
            "_model_name": "LayoutModel",
            "justify_items": null,
            "grid_row": null,
            "max_height": null,
            "align_content": null,
            "visibility": null,
            "align_self": null,
            "height": null,
            "min_height": null,
            "padding": null,
            "grid_auto_rows": null,
            "grid_gap": null,
            "max_width": null,
            "order": null,
            "_view_module_version": "1.2.0",
            "grid_template_areas": null,
            "object_position": null,
            "object_fit": null,
            "grid_auto_columns": null,
            "margin": null,
            "display": null,
            "left": null
          }
        },
        "93ab6c8e9f954fde8d34e347aacd4479": {
          "model_module": "@jupyter-widgets/controls",
          "model_name": "HBoxModel",
          "state": {
            "_view_name": "HBoxView",
            "_dom_classes": [],
            "_model_name": "HBoxModel",
            "_view_module": "@jupyter-widgets/controls",
            "_model_module_version": "1.5.0",
            "_view_count": null,
            "_view_module_version": "1.5.0",
            "box_style": "",
            "layout": "IPY_MODEL_9646939e98e648c298b4ead4d3a1124e",
            "_model_module": "@jupyter-widgets/controls",
            "children": [
              "IPY_MODEL_33966802d4ec41b4ac4537f4162c2a2c",
              "IPY_MODEL_f9f2f904782d4ae2920ee0769b493e34"
            ]
          }
        },
        "9646939e98e648c298b4ead4d3a1124e": {
          "model_module": "@jupyter-widgets/base",
          "model_name": "LayoutModel",
          "state": {
            "_view_name": "LayoutView",
            "grid_template_rows": null,
            "right": null,
            "justify_content": null,
            "_view_module": "@jupyter-widgets/base",
            "overflow": null,
            "_model_module_version": "1.2.0",
            "_view_count": null,
            "flex_flow": null,
            "width": null,
            "min_width": null,
            "border": null,
            "align_items": null,
            "bottom": null,
            "_model_module": "@jupyter-widgets/base",
            "top": null,
            "grid_column": null,
            "overflow_y": null,
            "overflow_x": null,
            "grid_auto_flow": null,
            "grid_area": null,
            "grid_template_columns": null,
            "flex": null,
            "_model_name": "LayoutModel",
            "justify_items": null,
            "grid_row": null,
            "max_height": null,
            "align_content": null,
            "visibility": null,
            "align_self": null,
            "height": null,
            "min_height": null,
            "padding": null,
            "grid_auto_rows": null,
            "grid_gap": null,
            "max_width": null,
            "order": null,
            "_view_module_version": "1.2.0",
            "grid_template_areas": null,
            "object_position": null,
            "object_fit": null,
            "grid_auto_columns": null,
            "margin": null,
            "display": null,
            "left": null
          }
        },
        "33966802d4ec41b4ac4537f4162c2a2c": {
          "model_module": "@jupyter-widgets/controls",
          "model_name": "FloatProgressModel",
          "state": {
            "_view_name": "ProgressView",
            "style": "IPY_MODEL_9992e17ac27048c9ad08d4ceafef7ca5",
            "_dom_classes": [],
            "description": "Downloading: 100%",
            "_model_name": "FloatProgressModel",
            "bar_style": "success",
            "max": 548118077,
            "_view_module": "@jupyter-widgets/controls",
            "_model_module_version": "1.5.0",
            "value": 548118077,
            "_view_count": null,
            "_view_module_version": "1.5.0",
            "orientation": "horizontal",
            "min": 0,
            "description_tooltip": null,
            "_model_module": "@jupyter-widgets/controls",
            "layout": "IPY_MODEL_f93fbd0ed44a4856aef250297601f64e"
          }
        },
        "f9f2f904782d4ae2920ee0769b493e34": {
          "model_module": "@jupyter-widgets/controls",
          "model_name": "HTMLModel",
          "state": {
            "_view_name": "HTMLView",
            "style": "IPY_MODEL_b52c422d6afa4543bf212d974da24d04",
            "_dom_classes": [],
            "description": "",
            "_model_name": "HTMLModel",
            "placeholder": "​",
            "_view_module": "@jupyter-widgets/controls",
            "_model_module_version": "1.5.0",
            "value": " 548M/548M [00:12&lt;00:00, 42.9MB/s]",
            "_view_count": null,
            "_view_module_version": "1.5.0",
            "description_tooltip": null,
            "_model_module": "@jupyter-widgets/controls",
            "layout": "IPY_MODEL_7abf0bbaca934073b0db720f3801745d"
          }
        },
        "9992e17ac27048c9ad08d4ceafef7ca5": {
          "model_module": "@jupyter-widgets/controls",
          "model_name": "ProgressStyleModel",
          "state": {
            "_view_name": "StyleView",
            "_model_name": "ProgressStyleModel",
            "description_width": "initial",
            "_view_module": "@jupyter-widgets/base",
            "_model_module_version": "1.5.0",
            "_view_count": null,
            "_view_module_version": "1.2.0",
            "bar_color": null,
            "_model_module": "@jupyter-widgets/controls"
          }
        },
        "f93fbd0ed44a4856aef250297601f64e": {
          "model_module": "@jupyter-widgets/base",
          "model_name": "LayoutModel",
          "state": {
            "_view_name": "LayoutView",
            "grid_template_rows": null,
            "right": null,
            "justify_content": null,
            "_view_module": "@jupyter-widgets/base",
            "overflow": null,
            "_model_module_version": "1.2.0",
            "_view_count": null,
            "flex_flow": null,
            "width": null,
            "min_width": null,
            "border": null,
            "align_items": null,
            "bottom": null,
            "_model_module": "@jupyter-widgets/base",
            "top": null,
            "grid_column": null,
            "overflow_y": null,
            "overflow_x": null,
            "grid_auto_flow": null,
            "grid_area": null,
            "grid_template_columns": null,
            "flex": null,
            "_model_name": "LayoutModel",
            "justify_items": null,
            "grid_row": null,
            "max_height": null,
            "align_content": null,
            "visibility": null,
            "align_self": null,
            "height": null,
            "min_height": null,
            "padding": null,
            "grid_auto_rows": null,
            "grid_gap": null,
            "max_width": null,
            "order": null,
            "_view_module_version": "1.2.0",
            "grid_template_areas": null,
            "object_position": null,
            "object_fit": null,
            "grid_auto_columns": null,
            "margin": null,
            "display": null,
            "left": null
          }
        },
        "b52c422d6afa4543bf212d974da24d04": {
          "model_module": "@jupyter-widgets/controls",
          "model_name": "DescriptionStyleModel",
          "state": {
            "_view_name": "StyleView",
            "_model_name": "DescriptionStyleModel",
            "description_width": "",
            "_view_module": "@jupyter-widgets/base",
            "_model_module_version": "1.5.0",
            "_view_count": null,
            "_view_module_version": "1.2.0",
            "_model_module": "@jupyter-widgets/controls"
          }
        },
        "7abf0bbaca934073b0db720f3801745d": {
          "model_module": "@jupyter-widgets/base",
          "model_name": "LayoutModel",
          "state": {
            "_view_name": "LayoutView",
            "grid_template_rows": null,
            "right": null,
            "justify_content": null,
            "_view_module": "@jupyter-widgets/base",
            "overflow": null,
            "_model_module_version": "1.2.0",
            "_view_count": null,
            "flex_flow": null,
            "width": null,
            "min_width": null,
            "border": null,
            "align_items": null,
            "bottom": null,
            "_model_module": "@jupyter-widgets/base",
            "top": null,
            "grid_column": null,
            "overflow_y": null,
            "overflow_x": null,
            "grid_auto_flow": null,
            "grid_area": null,
            "grid_template_columns": null,
            "flex": null,
            "_model_name": "LayoutModel",
            "justify_items": null,
            "grid_row": null,
            "max_height": null,
            "align_content": null,
            "visibility": null,
            "align_self": null,
            "height": null,
            "min_height": null,
            "padding": null,
            "grid_auto_rows": null,
            "grid_gap": null,
            "max_width": null,
            "order": null,
            "_view_module_version": "1.2.0",
            "grid_template_areas": null,
            "object_position": null,
            "object_fit": null,
            "grid_auto_columns": null,
            "margin": null,
            "display": null,
            "left": null
          }
        }
      }
    }
  },
  "cells": [
    {
      "cell_type": "markdown",
      "metadata": {
        "id": "view-in-github",
        "colab_type": "text"
      },
      "source": [
        "<a href=\"https://colab.research.google.com/github/eskblog/troll-bot/blob/main/trolls_tweet_generator.ipynb\" target=\"_parent\"><img src=\"https://colab.research.google.com/assets/colab-badge.svg\" alt=\"Open In Colab\"/></a>"
      ]
    },
    {
      "cell_type": "code",
      "metadata": {
        "id": "Ub3UoaiaBzeq",
        "colab": {
          "base_uri": "https://localhost:8080/"
        },
        "outputId": "6b7602d8-99d2-46ce-afcd-3113abf609fb"
      },
      "source": [
        "!pip install -Uqq fastbook\n",
        "import fastbook\n",
        "#fastbook.setup_book()\n",
        "!pip install transformers\n",
        "import torch\n",
        "import transformers\n",
        "from transformers import pipeline\n",
        "\n",
        "!pip install sklearn"
      ],
      "execution_count": 2,
      "outputs": [
        {
          "output_type": "stream",
          "text": [
            "\u001b[K     |████████████████████████████████| 727kB 25.0MB/s \n",
            "\u001b[K     |████████████████████████████████| 51kB 7.5MB/s \n",
            "\u001b[K     |████████████████████████████████| 1.2MB 25.8MB/s \n",
            "\u001b[K     |████████████████████████████████| 204kB 50.2MB/s \n",
            "\u001b[K     |████████████████████████████████| 61kB 9.2MB/s \n",
            "\u001b[K     |████████████████████████████████| 61kB 9.2MB/s \n",
            "\u001b[?25hCollecting transformers\n",
            "\u001b[?25l  Downloading https://files.pythonhosted.org/packages/d5/43/cfe4ee779bbd6a678ac6a97c5a5cdeb03c35f9eaebbb9720b036680f9a2d/transformers-4.6.1-py3-none-any.whl (2.2MB)\n",
            "\u001b[K     |████████████████████████████████| 2.3MB 25.3MB/s \n",
            "\u001b[?25hRequirement already satisfied: tqdm>=4.27 in /usr/local/lib/python3.7/dist-packages (from transformers) (4.41.1)\n",
            "Requirement already satisfied: importlib-metadata; python_version < \"3.8\" in /usr/local/lib/python3.7/dist-packages (from transformers) (4.0.1)\n",
            "Collecting huggingface-hub==0.0.8\n",
            "  Downloading https://files.pythonhosted.org/packages/a1/88/7b1e45720ecf59c6c6737ff332f41c955963090a18e72acbcbeac6b25e86/huggingface_hub-0.0.8-py3-none-any.whl\n",
            "Requirement already satisfied: numpy>=1.17 in /usr/local/lib/python3.7/dist-packages (from transformers) (1.19.5)\n",
            "Requirement already satisfied: packaging in /usr/local/lib/python3.7/dist-packages (from transformers) (20.9)\n",
            "Collecting sacremoses\n",
            "\u001b[?25l  Downloading https://files.pythonhosted.org/packages/75/ee/67241dc87f266093c533a2d4d3d69438e57d7a90abb216fa076e7d475d4a/sacremoses-0.0.45-py3-none-any.whl (895kB)\n",
            "\u001b[K     |████████████████████████████████| 901kB 53.4MB/s \n",
            "\u001b[?25hRequirement already satisfied: filelock in /usr/local/lib/python3.7/dist-packages (from transformers) (3.0.12)\n",
            "Requirement already satisfied: regex!=2019.12.17 in /usr/local/lib/python3.7/dist-packages (from transformers) (2019.12.20)\n",
            "Collecting tokenizers<0.11,>=0.10.1\n",
            "\u001b[?25l  Downloading https://files.pythonhosted.org/packages/d4/e2/df3543e8ffdab68f5acc73f613de9c2b155ac47f162e725dcac87c521c11/tokenizers-0.10.3-cp37-cp37m-manylinux_2_5_x86_64.manylinux1_x86_64.manylinux_2_12_x86_64.manylinux2010_x86_64.whl (3.3MB)\n",
            "\u001b[K     |████████████████████████████████| 3.3MB 39.9MB/s \n",
            "\u001b[?25hRequirement already satisfied: requests in /usr/local/lib/python3.7/dist-packages (from transformers) (2.23.0)\n",
            "Requirement already satisfied: zipp>=0.5 in /usr/local/lib/python3.7/dist-packages (from importlib-metadata; python_version < \"3.8\"->transformers) (3.4.1)\n",
            "Requirement already satisfied: typing-extensions>=3.6.4; python_version < \"3.8\" in /usr/local/lib/python3.7/dist-packages (from importlib-metadata; python_version < \"3.8\"->transformers) (3.7.4.3)\n",
            "Requirement already satisfied: pyparsing>=2.0.2 in /usr/local/lib/python3.7/dist-packages (from packaging->transformers) (2.4.7)\n",
            "Requirement already satisfied: six in /usr/local/lib/python3.7/dist-packages (from sacremoses->transformers) (1.15.0)\n",
            "Requirement already satisfied: joblib in /usr/local/lib/python3.7/dist-packages (from sacremoses->transformers) (1.0.1)\n",
            "Requirement already satisfied: click in /usr/local/lib/python3.7/dist-packages (from sacremoses->transformers) (7.1.2)\n",
            "Requirement already satisfied: idna<3,>=2.5 in /usr/local/lib/python3.7/dist-packages (from requests->transformers) (2.10)\n",
            "Requirement already satisfied: certifi>=2017.4.17 in /usr/local/lib/python3.7/dist-packages (from requests->transformers) (2020.12.5)\n",
            "Requirement already satisfied: chardet<4,>=3.0.2 in /usr/local/lib/python3.7/dist-packages (from requests->transformers) (3.0.4)\n",
            "Requirement already satisfied: urllib3!=1.25.0,!=1.25.1,<1.26,>=1.21.1 in /usr/local/lib/python3.7/dist-packages (from requests->transformers) (1.24.3)\n",
            "Installing collected packages: huggingface-hub, sacremoses, tokenizers, transformers\n",
            "Successfully installed huggingface-hub-0.0.8 sacremoses-0.0.45 tokenizers-0.10.3 transformers-4.6.1\n",
            "Requirement already satisfied: sklearn in /usr/local/lib/python3.7/dist-packages (0.0)\n",
            "Requirement already satisfied: scikit-learn in /usr/local/lib/python3.7/dist-packages (from sklearn) (0.22.2.post1)\n",
            "Requirement already satisfied: numpy>=1.11.0 in /usr/local/lib/python3.7/dist-packages (from scikit-learn->sklearn) (1.19.5)\n",
            "Requirement already satisfied: scipy>=0.17.0 in /usr/local/lib/python3.7/dist-packages (from scikit-learn->sklearn) (1.4.1)\n",
            "Requirement already satisfied: joblib>=0.11 in /usr/local/lib/python3.7/dist-packages (from scikit-learn->sklearn) (1.0.1)\n"
          ],
          "name": "stdout"
        }
      ]
    },
    {
      "cell_type": "markdown",
      "metadata": {
        "id": "bDZv_yW9wjEb"
      },
      "source": [
        "\n",
        "\n",
        "# Import tweets and build training and test sets\n",
        "\n",
        "Drawing on code found in https://towardsdatascience.com/fine-tune-a-non-english-gpt-2-model-with-huggingface-9acc2dc7635b\n",
        "\n",
        "For this to work, download this zip file: https://www.kaggle.com/fivethirtyeight/russian-troll-tweets\n",
        "\n",
        "Next, extract it to a Google Drive directory and, mounting it on Google Colab paste the target directory address in the FOLDER_PATH below:"
      ]
    },
    {
      "cell_type": "code",
      "metadata": {
        "id": "b6gwU6mzwq_N"
      },
      "source": [
        "import re\n",
        "from sklearn.model_selection import train_test_split\n",
        "import pandas as pd"
      ],
      "execution_count": 56,
      "outputs": []
    },
    {
      "cell_type": "code",
      "metadata": {
        "colab": {
          "base_uri": "https://localhost:8080/",
          "height": 717
        },
        "id": "_tWSLGityZWz",
        "outputId": "a1112b1f-06c6-4328-f466-d5a96e09e594"
      },
      "source": [
        "FOLDER_PATH = \"/content/drive/MyDrive/Colab Notebooks/Personal projects/Trolls/Data\" #to be replaced by user with correct path where the CSV files are\n",
        "CSV_FILENAME = \"IRAhandle_tweets_1.csv\" #to save time on training, we use only the first of a number of CSV files. It has enough tweets to be useful\n",
        "\n",
        "MODEL_PATH = \"/content/drive/MyDrive/Colab Notebooks/Personal projects/Trolls/trolls-gpt2-model\" #this is where the GPT-2 model will be saved and loaded from\n",
        "\n",
        "tweets = pd.read_csv(FOLDER_PATH+\"/\"+CSV_FILENAME)\n",
        "tweets.head(2)\n",
        "eng_tweets = tweets[tweets.language == \"English\"] #filter to English tweets only\n",
        "eng_tweets.head()"
      ],
      "execution_count": 57,
      "outputs": [
        {
          "output_type": "execute_result",
          "data": {
            "text/html": [
              "<div>\n",
              "<style scoped>\n",
              "    .dataframe tbody tr th:only-of-type {\n",
              "        vertical-align: middle;\n",
              "    }\n",
              "\n",
              "    .dataframe tbody tr th {\n",
              "        vertical-align: top;\n",
              "    }\n",
              "\n",
              "    .dataframe thead th {\n",
              "        text-align: right;\n",
              "    }\n",
              "</style>\n",
              "<table border=\"1\" class=\"dataframe\">\n",
              "  <thead>\n",
              "    <tr style=\"text-align: right;\">\n",
              "      <th></th>\n",
              "      <th>external_author_id</th>\n",
              "      <th>author</th>\n",
              "      <th>content</th>\n",
              "      <th>region</th>\n",
              "      <th>language</th>\n",
              "      <th>publish_date</th>\n",
              "      <th>harvested_date</th>\n",
              "      <th>following</th>\n",
              "      <th>followers</th>\n",
              "      <th>updates</th>\n",
              "      <th>post_type</th>\n",
              "      <th>account_type</th>\n",
              "      <th>new_june_2018</th>\n",
              "      <th>retweet</th>\n",
              "      <th>account_category</th>\n",
              "    </tr>\n",
              "  </thead>\n",
              "  <tbody>\n",
              "    <tr>\n",
              "      <th>0</th>\n",
              "      <td>9.060000e+17</td>\n",
              "      <td>10_GOP</td>\n",
              "      <td>\"We have a sitting Democrat US Senator on trial for corruption and you've barely heard a peep from the mainstream media.\" ~ @nedryun https://t.co/gh6g0D1oiC</td>\n",
              "      <td>Unknown</td>\n",
              "      <td>English</td>\n",
              "      <td>10/1/2017 19:58</td>\n",
              "      <td>10/1/2017 19:59</td>\n",
              "      <td>1052</td>\n",
              "      <td>9636</td>\n",
              "      <td>253</td>\n",
              "      <td>NaN</td>\n",
              "      <td>Right</td>\n",
              "      <td>0</td>\n",
              "      <td>0</td>\n",
              "      <td>RightTroll</td>\n",
              "    </tr>\n",
              "    <tr>\n",
              "      <th>1</th>\n",
              "      <td>9.060000e+17</td>\n",
              "      <td>10_GOP</td>\n",
              "      <td>Marshawn Lynch arrives to game in anti-Trump shirt. Judging by his sagging pants the shirt should say Lynch vs. belt https://t.co/mLH1i30LZZ</td>\n",
              "      <td>Unknown</td>\n",
              "      <td>English</td>\n",
              "      <td>10/1/2017 22:43</td>\n",
              "      <td>10/1/2017 22:43</td>\n",
              "      <td>1054</td>\n",
              "      <td>9637</td>\n",
              "      <td>254</td>\n",
              "      <td>NaN</td>\n",
              "      <td>Right</td>\n",
              "      <td>0</td>\n",
              "      <td>0</td>\n",
              "      <td>RightTroll</td>\n",
              "    </tr>\n",
              "    <tr>\n",
              "      <th>2</th>\n",
              "      <td>9.060000e+17</td>\n",
              "      <td>10_GOP</td>\n",
              "      <td>Daughter of fallen Navy Sailor delivers powerful monologue on anthem protests, burns her NFL packers gear.  #BoycottNFL https://t.co/qDlFBGMeag</td>\n",
              "      <td>Unknown</td>\n",
              "      <td>English</td>\n",
              "      <td>10/1/2017 22:50</td>\n",
              "      <td>10/1/2017 22:51</td>\n",
              "      <td>1054</td>\n",
              "      <td>9637</td>\n",
              "      <td>255</td>\n",
              "      <td>RETWEET</td>\n",
              "      <td>Right</td>\n",
              "      <td>0</td>\n",
              "      <td>1</td>\n",
              "      <td>RightTroll</td>\n",
              "    </tr>\n",
              "    <tr>\n",
              "      <th>3</th>\n",
              "      <td>9.060000e+17</td>\n",
              "      <td>10_GOP</td>\n",
              "      <td>JUST IN: President Trump dedicates Presidents Cup golf tournament trophy to the people of Florida, Texas and Puerto Rico. https://t.co/z9wVa4djAE</td>\n",
              "      <td>Unknown</td>\n",
              "      <td>English</td>\n",
              "      <td>10/1/2017 23:52</td>\n",
              "      <td>10/1/2017 23:52</td>\n",
              "      <td>1062</td>\n",
              "      <td>9642</td>\n",
              "      <td>256</td>\n",
              "      <td>NaN</td>\n",
              "      <td>Right</td>\n",
              "      <td>0</td>\n",
              "      <td>0</td>\n",
              "      <td>RightTroll</td>\n",
              "    </tr>\n",
              "    <tr>\n",
              "      <th>4</th>\n",
              "      <td>9.060000e+17</td>\n",
              "      <td>10_GOP</td>\n",
              "      <td>19,000 RESPECTING our National Anthem! #StandForOurAnthem🇺🇸 https://t.co/czutyGaMQV</td>\n",
              "      <td>Unknown</td>\n",
              "      <td>English</td>\n",
              "      <td>10/1/2017 2:13</td>\n",
              "      <td>10/1/2017 2:13</td>\n",
              "      <td>1050</td>\n",
              "      <td>9645</td>\n",
              "      <td>246</td>\n",
              "      <td>RETWEET</td>\n",
              "      <td>Right</td>\n",
              "      <td>0</td>\n",
              "      <td>1</td>\n",
              "      <td>RightTroll</td>\n",
              "    </tr>\n",
              "  </tbody>\n",
              "</table>\n",
              "</div>"
            ],
            "text/plain": [
              "   external_author_id  author  \\\n",
              "0        9.060000e+17  10_GOP   \n",
              "1        9.060000e+17  10_GOP   \n",
              "2        9.060000e+17  10_GOP   \n",
              "3        9.060000e+17  10_GOP   \n",
              "4        9.060000e+17  10_GOP   \n",
              "\n",
              "                                                                                                                                                        content  \\\n",
              "0  \"We have a sitting Democrat US Senator on trial for corruption and you've barely heard a peep from the mainstream media.\" ~ @nedryun https://t.co/gh6g0D1oiC   \n",
              "1                  Marshawn Lynch arrives to game in anti-Trump shirt. Judging by his sagging pants the shirt should say Lynch vs. belt https://t.co/mLH1i30LZZ   \n",
              "2               Daughter of fallen Navy Sailor delivers powerful monologue on anthem protests, burns her NFL packers gear.  #BoycottNFL https://t.co/qDlFBGMeag   \n",
              "3             JUST IN: President Trump dedicates Presidents Cup golf tournament trophy to the people of Florida, Texas and Puerto Rico. https://t.co/z9wVa4djAE   \n",
              "4                                                                           19,000 RESPECTING our National Anthem! #StandForOurAnthem🇺🇸 https://t.co/czutyGaMQV   \n",
              "\n",
              "    region language     publish_date   harvested_date  following  followers  \\\n",
              "0  Unknown  English  10/1/2017 19:58  10/1/2017 19:59       1052       9636   \n",
              "1  Unknown  English  10/1/2017 22:43  10/1/2017 22:43       1054       9637   \n",
              "2  Unknown  English  10/1/2017 22:50  10/1/2017 22:51       1054       9637   \n",
              "3  Unknown  English  10/1/2017 23:52  10/1/2017 23:52       1062       9642   \n",
              "4  Unknown  English   10/1/2017 2:13   10/1/2017 2:13       1050       9645   \n",
              "\n",
              "   updates post_type account_type  new_june_2018  retweet account_category  \n",
              "0      253       NaN        Right              0        0       RightTroll  \n",
              "1      254       NaN        Right              0        0       RightTroll  \n",
              "2      255   RETWEET        Right              0        1       RightTroll  \n",
              "3      256       NaN        Right              0        0       RightTroll  \n",
              "4      246   RETWEET        Right              0        1       RightTroll  "
            ]
          },
          "metadata": {
            "tags": []
          },
          "execution_count": 57
        }
      ]
    },
    {
      "cell_type": "code",
      "metadata": {
        "colab": {
          "base_uri": "https://localhost:8080/"
        },
        "id": "nbl-bCmbxXq9",
        "outputId": "88703dac-c597-414b-8739-6cca351a5847"
      },
      "source": [
        "train, test = train_test_split(eng_tweets[:10000], test_size = 0.15) #take a limited number of tweets to speed up processing\n",
        "\n",
        "def build_text_file(pd_column, dest_path):\n",
        "  \"\"\"Write the contents of a pandas column to a text file\"\"\"\n",
        "  f = open(dest_path, \"w\")\n",
        "  data = ''\n",
        "  for text in pd_column:\n",
        "    line = str(text).strip()\n",
        "    line = re.sub(r\"\\s\", \" \", line)\n",
        "    data += line + \" \" #note that we are not adding a line break...\n",
        "  print(data[:3000]) #for inspection\n",
        "  f.write(data)\n",
        "\n",
        "build_text_file(train['content'], \"traintext.txt\")\n",
        "build_text_file(test['content'], \"testtext.txt\")"
      ],
      "execution_count": null,
      "outputs": [
        {
          "output_type": "stream",
          "text": [
            "#IStartCryingWhen I get slapped in the face and shoved into traffic. Photo: Yesterday, 32-year-old Philadelphia police officer Matthew Zagursky was caught on a video extorting... http://t.co/D6TZDE2UJZ #abi Grassroots Conservative Group Calls on Senate GOP to DITCH MITCH! https://t.co/HAfpo4Js59 #ABISS https://t.co/CitZRKcdFs BREAKING: Russia-backed #SyrianArmy advances on #Daesh-held #Palmyra, less than 20 km left https://t.co/qht9pujmvU #SyriaCrisis https://t.co/1ZDbtgfxY6 Me: let's make today a good day Also me: do you like my hoodie I got it for my birthday https://t.co/MKCeAXUt4N I'm a bad politician #SaidNoOneEver http://t.co/2uusTwBRBC #happyme I’m happiest when my music touches the lives of all people: from black 2 white, young 2 old, straight 2 gay https://t.co/L9slMMtcwE #Rihanna #star #awesome http://t.co/P03TqNJ4g7 #abi Mueller’s WITCH-HUNT Team Just Lost a Major Player! https://t.co/sxGjnUCTgL #ABISS https://t.co/Yg28RUl5Ns RT @smushinga: Lol funniest comment about #Desiigner freestyling https://t.co/XD0AArxZMr I’m just going to leave this right here. http://t.co/IUEKAtwnhB Good evening from the hollows of witching  hour �✨#art #blackart #3am https://t.co/hxMaQAVDvS Places for colored - turn left to Mexico #RejectedStatueOfLibertySigns Come on y'all, spread the word. http://t.co/3NzARL18U8 Want to see if a police officer has a history of misconduct?These states make it hard #PoliceBrutality #BlackTwitter http://t.co/O252j6gYYn '@SophieTSimmons @genesimmons @Reebok wonderful' Why do THESE Democrats Want a Lenient Sentence for CEO of “Male Escort” Service? https://t.co/i0CYsDp2os https://t.co/osIiNcNIZt Because Fuck You Citizen That's Why #Cops #PoliceState #Injustice #NoKnockRaids https://t.co/lVArZ47Slu '@deray @ShaunKing @ReverantRevan @trueblacknews Here is my opinion on #JeremyMcDowell's case http://t.co/SpmDeEkxzQ http://t.co/Spt4dL2DtE' #abi SHOCK VIDEO : Charlottesville Man Has Head Busted Open By ANTIFA https://t.co/4miXSbcxfG #ABISS https://t.co/TkTi79j7dq So, if someone shoots me he commits a crime, if a cop shoots me he prevents one. Double standarts! #MikeBrown #Fergusonremembers 'Mommy,am I gonna die':Mom of 5year-old Ohio girl accidently shot by cop trying to subdue dog says officer left scene http://t.co/qYtkKBqhGj #NowPlaying: Mighty Mi \"The Right Time (feat. Grand Puba & Chubb Rock) [DJ Yoda Remix]\" #rap #hiphop #music https://t.co/IiUgOiTGhI '@DamnRealPosts If I make you cry, I'm cry.' girls winning totally bae https://t.co/x2kls7Ar1g If people think Russia is so bad, then tell me why they just said their getting ready and preparing for North Korea with USA, so think twice #abi BREAKING : Unhinged Liberals Target this NEW State Flag For Destruction https://t.co/Jl1po6Shy5 #ABISS https://t.co/GaaQ1u1Kp7 The Lazy Way To Sell Your Music Online https://t.co/IEdLFo1dBy WHAT??? The NAACP Just Labeled this ENTIRE STATE “Racist” https://t.co/uDosYEPCih https://t.co/krvVeW7e9O Fidel Castro, Muhammad Ali, David Bowie, Prince, \n",
            "MOTHERING WHILE BLACK: @TheRevAl publicist #RachelNoerdlinger been target of NYC politicians for years #BlackTwitter https://t.co/OiNWTeKKEY #PoliceViolence claims piling up in courts across the #country #America #racism #PoliceBrutality #BlackLivesMatter http://t.co/bsYPA2m6W4 Black women  For real  #BlackLivesMatter #BlackTwitter #BlackPride #racism #racist #STOPRACISM2015 #blackandwhite http://t.co/11I9ThNxDd mah favs #asaprocky #ASAPSingAlong #TravisScott #rap #rapmonster #RAPMUSIC #we #blackpeople #blackstars #blc #blacktw http://t.co/veBlFjE6X6 I think that this 'war on #cops' rhetoric is just another way to protect #police from accountability.#PoliceBrutality http://t.co/a6dttlN3Wv She deserves it! https://t.co/ykezqvTBIu #IslamKills the ‘refugees’ don’t look like those in need, absolutely #StopIslam just like that https://t.co/Jl7TU0G29v Young Gawd got in trouble at school for basically being a smart ass. Told him no TV before or after baseball practice... Trump lancia super bomba contro Is https://t.co/AwjR7wFCa2 https://t.co/wRChGwLywk My boy Donald Glover is in the MCU. It's lit. #SpiderManHomecoming https://t.co/gSFOYZRKTk A long, romantic walk to the fridge to grab a beer #ThingsYouCantIgnore Dixon #police department unlawfully entering unlocked vehicles to prove a point. http://t.co/lw4eyIyMpb #DogThanking How to get out of bed? I dunno #KochFarms https://t.co/rjBvMvDyNO '@KimKardashian Ohhhh mah f*ckin GOOOOOD! Perfect YA' Check out all the different ways to make money with us! --> https://t.co/eA09BcswkU #Brussels but that dont say none of syrian refugees are terrorists #IslamKills Comedian Adam Carolla Testified Before Congress and NUKED College Snowflakes https://t.co/LkE5JtO39O https://t.co/GoiVMrpXFt Yeah, clothes nowadays seems a bit strange https://t.co/vIC1dcnH1n #ObservationsAtTheMarathon If I stop to play a hashtag game, I'll fall way behind Liberal College Moves 9/11 Memorial as So No One Gets “Triggered” https://t.co/0KzEX8XbgV https://t.co/6pKh6YdzKV My inspiration for the day. https://t.co/EVGAAfxQF1 STUDENT SENT HOME FOR WEARING #BLACKLIVESMATTER SHIRT WITH LIST OF #PEOPLE #KILLED BY #POLICE #BlackTwitter #Blc #BLM http://t.co/QtESjXyPNB Heres AbbyJohnson former planned parenthood executive. Now #prolife very informative on abortions and MIND BLOWING  https://t.co/n1u6XkpHwA '@MarthaStewart Wow, I think thats the point, when you can say you succeed.  I am so happy for you' Watch Diamond and Silk SHRED Obamacare! https://t.co/X5kF5HpUYH https://t.co/icH689R0nI '@menchithekid I get it yass  wish you good day bae' #IWishItWasIllegalTo fake orgasm NATO chief says post-#Brexit alliance \"more important than ever\": https://t.co/vh4HPE6SRC https://t.co/RHcAoOcTcB This is wrong!! #BanIslam https://t.co/od9tv6IYke By the way, this is the now infamous librarian dressed as Cat in the Hat. Oh my, this is some inapropriate stuff. https://t.co/wzcsoPHGb8 Experts: #TamirRice had hands in pockets when shot by #Cleveland police  https\n"
          ],
          "name": "stdout"
        }
      ]
    },
    {
      "cell_type": "code",
      "metadata": {
        "colab": {
          "base_uri": "https://localhost:8080/",
          "height": 1000
        },
        "id": "E0oRbqZWx_gm",
        "outputId": "ad874e50-531a-41cd-ed03-28f0e1d8f9b3"
      },
      "source": [
        "train"
      ],
      "execution_count": null,
      "outputs": [
        {
          "output_type": "execute_result",
          "data": {
            "text/html": [
              "<div>\n",
              "<style scoped>\n",
              "    .dataframe tbody tr th:only-of-type {\n",
              "        vertical-align: middle;\n",
              "    }\n",
              "\n",
              "    .dataframe tbody tr th {\n",
              "        vertical-align: top;\n",
              "    }\n",
              "\n",
              "    .dataframe thead th {\n",
              "        text-align: right;\n",
              "    }\n",
              "</style>\n",
              "<table border=\"1\" class=\"dataframe\">\n",
              "  <thead>\n",
              "    <tr style=\"text-align: right;\">\n",
              "      <th></th>\n",
              "      <th>external_author_id</th>\n",
              "      <th>author</th>\n",
              "      <th>content</th>\n",
              "      <th>region</th>\n",
              "      <th>language</th>\n",
              "      <th>publish_date</th>\n",
              "      <th>harvested_date</th>\n",
              "      <th>following</th>\n",
              "      <th>followers</th>\n",
              "      <th>updates</th>\n",
              "      <th>post_type</th>\n",
              "      <th>account_type</th>\n",
              "      <th>new_june_2018</th>\n",
              "      <th>retweet</th>\n",
              "      <th>account_category</th>\n",
              "    </tr>\n",
              "  </thead>\n",
              "  <tbody>\n",
              "    <tr>\n",
              "      <th>16722</th>\n",
              "      <td>2.534421e+09</td>\n",
              "      <td>ABIGAILSSILK</td>\n",
              "      <td>#IStartCryingWhen I get slapped in the face and shoved into traffic.</td>\n",
              "      <td>United States</td>\n",
              "      <td>English</td>\n",
              "      <td>8/8/2016 14:27</td>\n",
              "      <td>8/8/2016 14:30</td>\n",
              "      <td>500</td>\n",
              "      <td>614</td>\n",
              "      <td>1435</td>\n",
              "      <td>NaN</td>\n",
              "      <td>Hashtager</td>\n",
              "      <td>0</td>\n",
              "      <td>0</td>\n",
              "      <td>HashtagGamer</td>\n",
              "    </tr>\n",
              "    <tr>\n",
              "      <th>8042</th>\n",
              "      <td>3.312143e+09</td>\n",
              "      <td>4MYSQUAD</td>\n",
              "      <td>Photo: Yesterday, 32-year-old Philadelphia police officer Matthew Zagursky was caught on a video extorting... http://t.co/D6TZDE2UJZ</td>\n",
              "      <td>United States</td>\n",
              "      <td>English</td>\n",
              "      <td>8/22/2015 7:37</td>\n",
              "      <td>8/22/2015 7:37</td>\n",
              "      <td>1652</td>\n",
              "      <td>305</td>\n",
              "      <td>489</td>\n",
              "      <td>NaN</td>\n",
              "      <td>left</td>\n",
              "      <td>0</td>\n",
              "      <td>0</td>\n",
              "      <td>LeftTroll</td>\n",
              "    </tr>\n",
              "    <tr>\n",
              "      <th>16894</th>\n",
              "      <td>8.930000e+17</td>\n",
              "      <td>ABIISSROSB</td>\n",
              "      <td>#abi Grassroots Conservative Group Calls on Senate GOP to DITCH MITCH! https://t.co/HAfpo4Js59 #ABISS https://t.co/CitZRKcdFs</td>\n",
              "      <td>United States</td>\n",
              "      <td>English</td>\n",
              "      <td>8/12/2017 18:43</td>\n",
              "      <td>8/12/2017 18:44</td>\n",
              "      <td>966</td>\n",
              "      <td>510</td>\n",
              "      <td>450</td>\n",
              "      <td>NaN</td>\n",
              "      <td>Right</td>\n",
              "      <td>0</td>\n",
              "      <td>0</td>\n",
              "      <td>RightTroll</td>\n",
              "    </tr>\n",
              "    <tr>\n",
              "      <th>14496</th>\n",
              "      <td>8.310000e+17</td>\n",
              "      <td>AARON_M1TCHELL</td>\n",
              "      <td>BREAKING: Russia-backed #SyrianArmy advances on #Daesh-held #Palmyra, less than 20 km left https://t.co/qht9pujmvU #SyriaCrisis https://t.co/1ZDbtgfxY6</td>\n",
              "      <td>Unknown</td>\n",
              "      <td>English</td>\n",
              "      <td>2/13/2017 22:28</td>\n",
              "      <td>2/13/2017 22:28</td>\n",
              "      <td>41</td>\n",
              "      <td>0</td>\n",
              "      <td>3</td>\n",
              "      <td>RETWEET</td>\n",
              "      <td>Koch</td>\n",
              "      <td>0</td>\n",
              "      <td>1</td>\n",
              "      <td>Fearmonger</td>\n",
              "    </tr>\n",
              "    <tr>\n",
              "      <th>6694</th>\n",
              "      <td>4.036537e+09</td>\n",
              "      <td>4MYSQUAD</td>\n",
              "      <td>Me: let's make today a good day Also me: do you like my hoodie I got it for my birthday https://t.co/MKCeAXUt4N</td>\n",
              "      <td>United States</td>\n",
              "      <td>English</td>\n",
              "      <td>11/17/2016 13:23</td>\n",
              "      <td>11/17/2016 13:23</td>\n",
              "      <td>4004</td>\n",
              "      <td>4776</td>\n",
              "      <td>1526</td>\n",
              "      <td>RETWEET</td>\n",
              "      <td>left</td>\n",
              "      <td>0</td>\n",
              "      <td>1</td>\n",
              "      <td>LeftTroll</td>\n",
              "    </tr>\n",
              "    <tr>\n",
              "      <th>...</th>\n",
              "      <td>...</td>\n",
              "      <td>...</td>\n",
              "      <td>...</td>\n",
              "      <td>...</td>\n",
              "      <td>...</td>\n",
              "      <td>...</td>\n",
              "      <td>...</td>\n",
              "      <td>...</td>\n",
              "      <td>...</td>\n",
              "      <td>...</td>\n",
              "      <td>...</td>\n",
              "      <td>...</td>\n",
              "      <td>...</td>\n",
              "      <td>...</td>\n",
              "      <td>...</td>\n",
              "    </tr>\n",
              "    <tr>\n",
              "      <th>13253</th>\n",
              "      <td>1.709314e+09</td>\n",
              "      <td>AANTIRACIST</td>\n",
              "      <td>\"The babies you murder\" And this is how terrorism starts. Religious extremists imposing their ignorance on others. https://t.co/bEPmzJ4lZP</td>\n",
              "      <td>United States</td>\n",
              "      <td>English</td>\n",
              "      <td>1/4/2016 1:08</td>\n",
              "      <td>1/4/2016 1:08</td>\n",
              "      <td>486</td>\n",
              "      <td>221</td>\n",
              "      <td>700</td>\n",
              "      <td>RETWEET</td>\n",
              "      <td>left</td>\n",
              "      <td>0</td>\n",
              "      <td>1</td>\n",
              "      <td>LeftTroll</td>\n",
              "    </tr>\n",
              "    <tr>\n",
              "      <th>9843</th>\n",
              "      <td>3.312143e+09</td>\n",
              "      <td>4MYSQUAD</td>\n",
              "      <td>#cop doesn't like #citizen knowing his #rights  #PoliceBrutality #policeAbuse #cops #acab http://t.co/QlrjkAXgn5</td>\n",
              "      <td>United States</td>\n",
              "      <td>English</td>\n",
              "      <td>9/30/2015 12:01</td>\n",
              "      <td>9/30/2015 12:01</td>\n",
              "      <td>1917</td>\n",
              "      <td>861</td>\n",
              "      <td>3328</td>\n",
              "      <td>NaN</td>\n",
              "      <td>left</td>\n",
              "      <td>0</td>\n",
              "      <td>0</td>\n",
              "      <td>LeftTroll</td>\n",
              "    </tr>\n",
              "    <tr>\n",
              "      <th>11132</th>\n",
              "      <td>7.140000e+17</td>\n",
              "      <td>666STEVEROGERS</td>\n",
              "      <td>GEMINI:  why do you obsess about time travel? what is it about the thought of going back that haunts you when you try to sleep?</td>\n",
              "      <td>Unknown</td>\n",
              "      <td>English</td>\n",
              "      <td>4/25/2017 2:00</td>\n",
              "      <td>4/25/2017 2:01</td>\n",
              "      <td>100</td>\n",
              "      <td>7</td>\n",
              "      <td>30</td>\n",
              "      <td>RETWEET</td>\n",
              "      <td>?</td>\n",
              "      <td>0</td>\n",
              "      <td>1</td>\n",
              "      <td>Unknown</td>\n",
              "    </tr>\n",
              "    <tr>\n",
              "      <th>5461</th>\n",
              "      <td>3.312143e+09</td>\n",
              "      <td>4MYSQUAD</td>\n",
              "      <td>This is what i call a real struggle in America  people have to eat,too http://t.co/MphpjVkQVj</td>\n",
              "      <td>United States</td>\n",
              "      <td>English</td>\n",
              "      <td>10/11/2015 23:16</td>\n",
              "      <td>10/11/2015 23:16</td>\n",
              "      <td>2000</td>\n",
              "      <td>1105</td>\n",
              "      <td>4114</td>\n",
              "      <td>NaN</td>\n",
              "      <td>left</td>\n",
              "      <td>0</td>\n",
              "      <td>0</td>\n",
              "      <td>LeftTroll</td>\n",
              "    </tr>\n",
              "    <tr>\n",
              "      <th>15247</th>\n",
              "      <td>2.534421e+09</td>\n",
              "      <td>ABIGAILSSILK</td>\n",
              "      <td>blood on the streets #sunny</td>\n",
              "      <td>United States</td>\n",
              "      <td>English</td>\n",
              "      <td>1/20/2015 15:13</td>\n",
              "      <td>1/20/2015 15:13</td>\n",
              "      <td>296</td>\n",
              "      <td>102</td>\n",
              "      <td>694</td>\n",
              "      <td>NaN</td>\n",
              "      <td>Hashtager</td>\n",
              "      <td>0</td>\n",
              "      <td>0</td>\n",
              "      <td>HashtagGamer</td>\n",
              "    </tr>\n",
              "  </tbody>\n",
              "</table>\n",
              "<p>8500 rows × 15 columns</p>\n",
              "</div>"
            ],
            "text/plain": [
              "       external_author_id          author  \\\n",
              "16722        2.534421e+09    ABIGAILSSILK   \n",
              "8042         3.312143e+09        4MYSQUAD   \n",
              "16894        8.930000e+17      ABIISSROSB   \n",
              "14496        8.310000e+17  AARON_M1TCHELL   \n",
              "6694         4.036537e+09        4MYSQUAD   \n",
              "...                   ...             ...   \n",
              "13253        1.709314e+09     AANTIRACIST   \n",
              "9843         3.312143e+09        4MYSQUAD   \n",
              "11132        7.140000e+17  666STEVEROGERS   \n",
              "5461         3.312143e+09        4MYSQUAD   \n",
              "15247        2.534421e+09    ABIGAILSSILK   \n",
              "\n",
              "                                                                                                                                                       content  \\\n",
              "16722                                                                                     #IStartCryingWhen I get slapped in the face and shoved into traffic.   \n",
              "8042                      Photo: Yesterday, 32-year-old Philadelphia police officer Matthew Zagursky was caught on a video extorting... http://t.co/D6TZDE2UJZ   \n",
              "16894                            #abi Grassroots Conservative Group Calls on Senate GOP to DITCH MITCH! https://t.co/HAfpo4Js59 #ABISS https://t.co/CitZRKcdFs   \n",
              "14496  BREAKING: Russia-backed #SyrianArmy advances on #Daesh-held #Palmyra, less than 20 km left https://t.co/qht9pujmvU #SyriaCrisis https://t.co/1ZDbtgfxY6   \n",
              "6694                                           Me: let's make today a good day Also me: do you like my hoodie I got it for my birthday https://t.co/MKCeAXUt4N   \n",
              "...                                                                                                                                                        ...   \n",
              "13253               \"The babies you murder\" And this is how terrorism starts. Religious extremists imposing their ignorance on others. https://t.co/bEPmzJ4lZP   \n",
              "9843                                          #cop doesn't like #citizen knowing his #rights  #PoliceBrutality #policeAbuse #cops #acab http://t.co/QlrjkAXgn5   \n",
              "11132                          GEMINI:  why do you obsess about time travel? what is it about the thought of going back that haunts you when you try to sleep?   \n",
              "5461                                                             This is what i call a real struggle in America  people have to eat,too http://t.co/MphpjVkQVj   \n",
              "15247                                                                                                                              blood on the streets #sunny   \n",
              "\n",
              "              region language      publish_date    harvested_date  following  \\\n",
              "16722  United States  English    8/8/2016 14:27    8/8/2016 14:30        500   \n",
              "8042   United States  English    8/22/2015 7:37    8/22/2015 7:37       1652   \n",
              "16894  United States  English   8/12/2017 18:43   8/12/2017 18:44        966   \n",
              "14496        Unknown  English   2/13/2017 22:28   2/13/2017 22:28         41   \n",
              "6694   United States  English  11/17/2016 13:23  11/17/2016 13:23       4004   \n",
              "...              ...      ...               ...               ...        ...   \n",
              "13253  United States  English     1/4/2016 1:08     1/4/2016 1:08        486   \n",
              "9843   United States  English   9/30/2015 12:01   9/30/2015 12:01       1917   \n",
              "11132        Unknown  English    4/25/2017 2:00    4/25/2017 2:01        100   \n",
              "5461   United States  English  10/11/2015 23:16  10/11/2015 23:16       2000   \n",
              "15247  United States  English   1/20/2015 15:13   1/20/2015 15:13        296   \n",
              "\n",
              "       followers  updates post_type account_type  new_june_2018  retweet  \\\n",
              "16722        614     1435       NaN    Hashtager              0        0   \n",
              "8042         305      489       NaN         left              0        0   \n",
              "16894        510      450       NaN        Right              0        0   \n",
              "14496          0        3   RETWEET         Koch              0        1   \n",
              "6694        4776     1526   RETWEET         left              0        1   \n",
              "...          ...      ...       ...          ...            ...      ...   \n",
              "13253        221      700   RETWEET         left              0        1   \n",
              "9843         861     3328       NaN         left              0        0   \n",
              "11132          7       30   RETWEET            ?              0        1   \n",
              "5461        1105     4114       NaN         left              0        0   \n",
              "15247        102      694       NaN    Hashtager              0        0   \n",
              "\n",
              "      account_category  \n",
              "16722     HashtagGamer  \n",
              "8042         LeftTroll  \n",
              "16894       RightTroll  \n",
              "14496       Fearmonger  \n",
              "6694         LeftTroll  \n",
              "...                ...  \n",
              "13253        LeftTroll  \n",
              "9843         LeftTroll  \n",
              "11132          Unknown  \n",
              "5461         LeftTroll  \n",
              "15247     HashtagGamer  \n",
              "\n",
              "[8500 rows x 15 columns]"
            ]
          },
          "metadata": {
            "tags": []
          },
          "execution_count": 5
        }
      ]
    },
    {
      "cell_type": "code",
      "metadata": {
        "colab": {
          "base_uri": "https://localhost:8080/",
          "height": 164,
          "referenced_widgets": [
            "ed58794658c041df87fdd005291f14dc",
            "03d4243923564491bf5b2f1d4751a7b9",
            "54811859d53f4e65b5c38f4762bb679b",
            "7f98de5051bc40178b122c9e585e4314",
            "7d9c461f5ad64843bd0b5756980f8867",
            "ec3223232900470893313c9d269c665d",
            "260e11e628a041cbb41cc4a7c643b657",
            "a8c18e339687407993c278ee2a0819d5",
            "66e6d31f548b416c831a8cb22980926e",
            "2f000d1e87f3480ca67d697ff04c3be0",
            "bf93aa2aeccd4455be25a899a8a29d91",
            "243b2841fb1d444ab07ab4476333699d",
            "41e4630e0d5442fd9850a31eb0c3cc95",
            "5b29c6d6a545414bb93cd59076349c21",
            "c7db8c9a556a4bad870954a6c83396ac",
            "8d96adbea0444478b3ed1d61e27114e4",
            "c1775c44c4f74742b17505697e21efc8",
            "859e091db88d4c6ba8d7688ac15b142c",
            "aacde4562d104328aac5276fb992d617",
            "e6d3db45e41544e6b79ff34d73ee0f25",
            "b6f625390bbe45ffbc3fb05d11b0d547",
            "88f770b0d76f4200a641e9d04bb3ecec",
            "e776e8bd741f4e1fab8924ef24c9d898",
            "d7e347e44c8541499a8372c9f341d84d"
          ]
        },
        "id": "kwIXGtGEyAj5",
        "outputId": "a814639b-2a54-418b-d1f9-381861250d26"
      },
      "source": [
        "#get GPT 2 tokenizer\n",
        "\n",
        "from transformers import GPT2Tokenizer, GPT2Model\n",
        "\n",
        "tokenizer = GPT2Tokenizer.from_pretrained(\"gpt2\")\n",
        "\n",
        "test_path = \"/content/testtext.txt\" #set the path for where the test and train strings will be saved\n",
        "train_path = \"/content/traintext.txt\""
      ],
      "execution_count": 4,
      "outputs": [
        {
          "output_type": "display_data",
          "data": {
            "application/vnd.jupyter.widget-view+json": {
              "model_id": "ed58794658c041df87fdd005291f14dc",
              "version_minor": 0,
              "version_major": 2
            },
            "text/plain": [
              "HBox(children=(FloatProgress(value=0.0, description='Downloading', max=1042301.0, style=ProgressStyle(descript…"
            ]
          },
          "metadata": {
            "tags": []
          }
        },
        {
          "output_type": "stream",
          "text": [
            "\n"
          ],
          "name": "stdout"
        },
        {
          "output_type": "display_data",
          "data": {
            "application/vnd.jupyter.widget-view+json": {
              "model_id": "66e6d31f548b416c831a8cb22980926e",
              "version_minor": 0,
              "version_major": 2
            },
            "text/plain": [
              "HBox(children=(FloatProgress(value=0.0, description='Downloading', max=456318.0, style=ProgressStyle(descripti…"
            ]
          },
          "metadata": {
            "tags": []
          }
        },
        {
          "output_type": "stream",
          "text": [
            "\n"
          ],
          "name": "stdout"
        },
        {
          "output_type": "display_data",
          "data": {
            "application/vnd.jupyter.widget-view+json": {
              "model_id": "c1775c44c4f74742b17505697e21efc8",
              "version_minor": 0,
              "version_major": 2
            },
            "text/plain": [
              "HBox(children=(FloatProgress(value=0.0, description='Downloading', max=1355256.0, style=ProgressStyle(descript…"
            ]
          },
          "metadata": {
            "tags": []
          }
        },
        {
          "output_type": "stream",
          "text": [
            "\n"
          ],
          "name": "stdout"
        }
      ]
    },
    {
      "cell_type": "code",
      "metadata": {
        "colab": {
          "base_uri": "https://localhost:8080/"
        },
        "id": "B3uKp3eCylll",
        "outputId": "617650b0-083a-48ec-fd45-3fd35ea9a1e8"
      },
      "source": [
        "#now we create a TextDataset\n",
        "from transformers import TextDataset, DataCollatorForLanguageModeling\n",
        "#note to self: may need to replace TextDataset due to update to library\n",
        "\n",
        "train_dataset = TextDataset(\n",
        "    tokenizer = tokenizer,\n",
        "    file_path = train_path,\n",
        "    block_size = 128)\n",
        "\n",
        "test_dataset = TextDataset(\n",
        "    tokenizer = tokenizer,\n",
        "    file_path = test_path,\n",
        "    block_size = 128)\n",
        "\n",
        "#this is somehow used to form a batch...\n",
        "data_collator = DataCollatorForLanguageModeling(\n",
        "        tokenizer=tokenizer, mlm=False)\n",
        "\n",
        "\n",
        "#so now we have converted our text files into training and testing data that can be read by the neural net (?)"
      ],
      "execution_count": null,
      "outputs": [
        {
          "output_type": "stream",
          "text": [
            "/usr/local/lib/python3.7/dist-packages/transformers/data/datasets/language_modeling.py:58: FutureWarning: This dataset will be removed from the library soon, preprocessing should be handled with the 🤗 Datasets library. You can have a look at this example script for pointers: https://github.com/huggingface/transformers/blob/master/examples/pytorch/language-modeling/run_mlm.py\n",
            "  FutureWarning,\n"
          ],
          "name": "stderr"
        }
      ]
    },
    {
      "cell_type": "code",
      "metadata": {
        "colab": {
          "base_uri": "https://localhost:8080/",
          "height": 169,
          "referenced_widgets": [
            "16fbe77a159746c4980a729d161f55ca",
            "fbb5f399905946d1bb0537ffa59a9198",
            "cfe82e2ee08c4611a3cdd6bcc94593a0",
            "81266d836a61486ab3391d59bc2a4233",
            "8e3c5fa15bd649f0a2290d4c61d25574",
            "33b55db51455450fbbe672917ef969f4",
            "1edafd2dfda642e8bbfcc70b3e1f76c3",
            "067dd1f05915413fb4aa85332fc5da61",
            "93ab6c8e9f954fde8d34e347aacd4479",
            "9646939e98e648c298b4ead4d3a1124e",
            "33966802d4ec41b4ac4537f4162c2a2c",
            "f9f2f904782d4ae2920ee0769b493e34",
            "9992e17ac27048c9ad08d4ceafef7ca5",
            "f93fbd0ed44a4856aef250297601f64e",
            "b52c422d6afa4543bf212d974da24d04",
            "7abf0bbaca934073b0db720f3801745d"
          ]
        },
        "id": "OqyMyBZ70J85",
        "outputId": "e146d6ea-c628-41cb-966b-40b215c38594"
      },
      "source": [
        "#now we initialize a TRAINER\n",
        "from transformers import Trainer, TrainingArguments, AutoModelWithLMHead\n",
        "\n",
        "model = model = AutoModelWithLMHead.from_pretrained(\"gpt2\")\n",
        "\n",
        "#here we set the learning parameters\n",
        "training_args = TrainingArguments(\n",
        "    output_dir=\"./gpt2-trolls\", #The output directory\n",
        "    overwrite_output_dir=True, #overwrite the content of the output directory\n",
        "    num_train_epochs=6, # number of training epochs\n",
        "    per_device_train_batch_size=32, # batch size for training\n",
        "    per_device_eval_batch_size=64,  # batch size for evaluation\n",
        "    eval_steps = 400, # Number of update steps between two evaluations.\n",
        "    save_steps=800, # after # steps model is saved\n",
        "    warmup_steps=500,# number of warmup steps for learning rate scheduler\n",
        "    prediction_loss_only=True,\n",
        "    )\n",
        "\n",
        "#create the trainer\n",
        "trainer = Trainer(\n",
        "    model=model,\n",
        "    args=training_args, #as you can see here we are passing the parameters creating above\n",
        "    data_collator=data_collator,\n",
        "    train_dataset=train_dataset,\n",
        "    eval_dataset=test_dataset,\n",
        "    #prediction_loss_only=True,\n",
        ")"
      ],
      "execution_count": null,
      "outputs": [
        {
          "output_type": "stream",
          "text": [
            "/usr/local/lib/python3.7/dist-packages/transformers/models/auto/modeling_auto.py:810: FutureWarning: The class `AutoModelWithLMHead` is deprecated and will be removed in a future version. Please use `AutoModelForCausalLM` for causal language models, `AutoModelForMaskedLM` for masked language models and `AutoModelForSeq2SeqLM` for encoder-decoder models.\n",
            "  FutureWarning,\n"
          ],
          "name": "stderr"
        },
        {
          "output_type": "display_data",
          "data": {
            "application/vnd.jupyter.widget-view+json": {
              "model_id": "16fbe77a159746c4980a729d161f55ca",
              "version_minor": 0,
              "version_major": 2
            },
            "text/plain": [
              "HBox(children=(FloatProgress(value=0.0, description='Downloading', max=665.0, style=ProgressStyle(description_…"
            ]
          },
          "metadata": {
            "tags": []
          }
        },
        {
          "output_type": "stream",
          "text": [
            "\n"
          ],
          "name": "stdout"
        },
        {
          "output_type": "display_data",
          "data": {
            "application/vnd.jupyter.widget-view+json": {
              "model_id": "93ab6c8e9f954fde8d34e347aacd4479",
              "version_minor": 0,
              "version_major": 2
            },
            "text/plain": [
              "HBox(children=(FloatProgress(value=0.0, description='Downloading', max=548118077.0, style=ProgressStyle(descri…"
            ]
          },
          "metadata": {
            "tags": []
          }
        },
        {
          "output_type": "stream",
          "text": [
            "\n"
          ],
          "name": "stdout"
        }
      ]
    },
    {
      "cell_type": "code",
      "metadata": {
        "id": "92Z2fZsvBtGE"
      },
      "source": [
        "nd"
      ],
      "execution_count": null,
      "outputs": []
    },
    {
      "cell_type": "markdown",
      "metadata": {
        "id": "9u1eeY8-5Vlg"
      },
      "source": [
        "# Now train the pre-trained model and then save the model"
      ]
    },
    {
      "cell_type": "code",
      "metadata": {
        "colab": {
          "base_uri": "https://localhost:8080/",
          "height": 112
        },
        "id": "v3splqAo0KNb",
        "outputId": "491000d2-bf36-48e3-fa3c-92aa0f3bd488"
      },
      "source": [
        "trainer.train()"
      ],
      "execution_count": null,
      "outputs": [
        {
          "output_type": "display_data",
          "data": {
            "text/html": [
              "\n",
              "    <div>\n",
              "      \n",
              "      <progress value='396' max='396' style='width:300px; height:20px; vertical-align: middle;'></progress>\n",
              "      [396/396 07:54, Epoch 6/6]\n",
              "    </div>\n",
              "    <table border=\"1\" class=\"dataframe\">\n",
              "  <thead>\n",
              "    <tr style=\"text-align: left;\">\n",
              "      <th>Step</th>\n",
              "      <th>Training Loss</th>\n",
              "    </tr>\n",
              "  </thead>\n",
              "  <tbody>\n",
              "  </tbody>\n",
              "</table><p>"
            ],
            "text/plain": [
              "<IPython.core.display.HTML object>"
            ]
          },
          "metadata": {
            "tags": []
          }
        },
        {
          "output_type": "execute_result",
          "data": {
            "text/plain": [
              "TrainOutput(global_step=396, training_loss=4.187208079328441, metrics={'train_runtime': 475.9372, 'train_samples_per_second': 0.832, 'total_flos': 1201312040878080.0, 'epoch': 6.0, 'init_mem_cpu_alloc_delta': 2104594432, 'init_mem_gpu_alloc_delta': 511148032, 'init_mem_cpu_peaked_delta': 0, 'init_mem_gpu_peaked_delta': 0, 'train_mem_cpu_alloc_delta': 12132352, 'train_mem_gpu_alloc_delta': 1521358336, 'train_mem_cpu_peaked_delta': 0, 'train_mem_gpu_peaked_delta': 8584833024})"
            ]
          },
          "metadata": {
            "tags": []
          },
          "execution_count": 9
        }
      ]
    },
    {
      "cell_type": "code",
      "metadata": {
        "id": "YOBKkLAi236G"
      },
      "source": [
        "trainer.save_model(MODEL_PATH)"
      ],
      "execution_count": null,
      "outputs": []
    },
    {
      "cell_type": "markdown",
      "metadata": {
        "id": "UbUWTdHZBxEk"
      },
      "source": [
        "# Build a pipeline with the model"
      ]
    },
    {
      "cell_type": "code",
      "metadata": {
        "id": "IVx8y69_7fZo"
      },
      "source": [
        "from transformers import pipeline\n",
        "trollsbot = pipeline('text-generation', model = MODEL_PATH, tokenizer = tokenizer, config={'max_length':800})\n"
      ],
      "execution_count": 58,
      "outputs": []
    },
    {
      "cell_type": "code",
      "metadata": {
        "colab": {
          "base_uri": "https://localhost:8080/",
          "height": 52
        },
        "id": "klHHKLX1F84w",
        "outputId": "71de3bdf-1bce-4300-d21d-3f84dc2b9bfa"
      },
      "source": [
        "result = trollsbot(\"SCIENCE is\")[0]['generated_text'] #testing it\n",
        "result"
      ],
      "execution_count": 6,
      "outputs": [
        {
          "output_type": "stream",
          "text": [
            "Setting `pad_token_id` to `eos_token_id`:50256 for open-end generation.\n"
          ],
          "name": "stderr"
        },
        {
          "output_type": "execute_result",
          "data": {
            "application/vnd.google.colaboratory.intrinsic+json": {
              "type": "string"
            },
            "text/plain": [
              "\"SCIENCE is #racism.' https://t.co/m9fRczTqSn #BlackLivesMatter #ABISS https://t.co/4oJ0R7qvJ3 #Stay\""
            ]
          },
          "metadata": {
            "tags": []
          },
          "execution_count": 6
        }
      ]
    },
    {
      "cell_type": "markdown",
      "metadata": {
        "id": "ARXf7fp3-g1i"
      },
      "source": [
        "# Creating a Twitter bot"
      ]
    },
    {
      "cell_type": "code",
      "metadata": {
        "colab": {
          "base_uri": "https://localhost:8080/"
        },
        "id": "vTyNHfWY_k6-",
        "outputId": "9731f98f-b9b2-472e-f6ae-40baaa3bdde6"
      },
      "source": [
        "!pip install textwrap3"
      ],
      "execution_count": 7,
      "outputs": [
        {
          "output_type": "stream",
          "text": [
            "Collecting textwrap3\n",
            "  Downloading https://files.pythonhosted.org/packages/77/9c/a53e561d496ee5866bbeea4d3a850b3b545ed854f8a21007c1e0d872e94d/textwrap3-0.9.2-py2.py3-none-any.whl\n",
            "Installing collected packages: textwrap3\n",
            "Successfully installed textwrap3-0.9.2\n"
          ],
          "name": "stdout"
        }
      ]
    },
    {
      "cell_type": "code",
      "metadata": {
        "id": "OlYpJyof9Qzo"
      },
      "source": [
        "#tweet screenshot generator\n",
        "\n",
        "from textwrap3 import wrap #to divide text into lines\n",
        "\n",
        "\n",
        "from PIL import Image, ImageDraw, ImageFont\n",
        "import requests\n",
        "import io\n",
        "\n",
        "def screenshot(textbody):\n",
        "  \"\"\"Draws screenshot of the generated Tweet\"\"\"\n",
        "\n",
        "  \n",
        "  img = Image.new('RGB', (810, 220), color = \"white\")\n",
        "\n",
        "  #username logo -- HACKER\n",
        "  logo_url = \"https://cdn.pixabay.com/photo/2017/11/27/07/50/putin-2980748_960_720.jpg\" #profile picture of the fake twitter user\n",
        "  logo = Image.open(requests.get(logo_url, stream=True).raw)\n",
        "  logo.thumbnail((63, 63)) #shrink logo\n",
        "  img.paste(logo, box = (20, 43)) #place logo\n",
        "\n",
        "  #create drawing instance\n",
        "  d = ImageDraw.Draw(img)\n",
        "\n",
        "  #set up fonts for the image\n",
        "  droidsans = requests.get('https://github.com/ProgrammingFonts/ProgrammingFonts/raw/master/Droid-Sans-Mono/droid-sans-mono-1.00/Droid%20Sans%20Mono.ttf', allow_redirects=True)\n",
        "\n",
        "  namefont = ImageFont.truetype(io.BytesIO(droidsans.content), size=29)\n",
        "  handlefont = ImageFont.truetype(io.BytesIO(droidsans.content), size=21)\n",
        "  textfont = ImageFont.truetype(io.BytesIO(droidsans.content), size=24)\n",
        "\n",
        "  #write name and username of account\n",
        "  d.text((100,42), \"Troll McDuck\", fill=(\"black\"), font=namefont)\n",
        "  d.text((310,48), \"@russkymir\", fill=(\"grey\"), font=handlefont)\n",
        "\n",
        "  #divide tweet into lines and print separately\n",
        "  textlines = wrap(textbody, width=40)\n",
        "  lineheight = 28\n",
        "  firstline_y=80\n",
        "  linecount = 0\n",
        "  for line in textlines:\n",
        "    d.text((100,firstline_y+linecount*lineheight), line, fill=(\"dimgray\"), font=textfont)\n",
        "    linecount += 1\n",
        "  \n",
        "  display(img)"
      ],
      "execution_count": 59,
      "outputs": []
    },
    {
      "cell_type": "code",
      "metadata": {
        "colab": {
          "base_uri": "https://localhost:8080/",
          "height": 271
        },
        "id": "txa1lq3Y_2w-",
        "outputId": "befb4ede-d346-45d0-8f0c-d94ad18d9af2"
      },
      "source": [
        "\n",
        "def generate_tweet(start):\n",
        "  result = trollsbot(start)[0]['generated_text']\n",
        "  punctuation = \"!?.;\"\n",
        "  shortresult = \"\"\n",
        "  \n",
        "  #make sure end result only something with punctuation\n",
        "  for i in range(1, len(result)):\n",
        "    if result[-i] in punctuation:\n",
        "      shortresult = result[:-i+1]\n",
        "      break\n",
        "  if len(shortresult) != 0: #if a punctuation was found\n",
        "    return shortresult\n",
        "  else:\n",
        "    return generate_tweet(start) #call itself if no punctuation in this one\n",
        "\n",
        "\n",
        "#working troll bot\n",
        "start = input(\"Type start of tweet: \")\n",
        "shortresult = generate_tweet(start)\n",
        "screenshot(shortresult)"
      ],
      "execution_count": 80,
      "outputs": [
        {
          "output_type": "stream",
          "text": [
            "Type start of tweet: Hillary should\n"
          ],
          "name": "stdout"
        },
        {
          "output_type": "stream",
          "text": [
            "Setting `pad_token_id` to `eos_token_id`:50256 for open-end generation.\n"
          ],
          "name": "stderr"
        },
        {
          "output_type": "display_data",
          "data": {
            "image/png": "[encoded data removed]",
            "text/plain": [
              "<PIL.Image.Image image mode=RGB size=810x220 at 0x7F335E1EFB10>"
            ]
          },
          "metadata": {
            "tags": []
          }
        }
      ]
    },
    {
      "cell_type": "code",
      "metadata": {
        "id": "6G4uviR6FNnH",
        "colab": {
          "base_uri": "https://localhost:8080/",
          "height": 130
        },
        "outputId": "7d414162-ecf3-4af6-f981-001ca1e76530"
      },
      "source": [
        ""
      ],
      "execution_count": 77,
      "outputs": [
        {
          "output_type": "error",
          "ename": "SyntaxError",
          "evalue": "ignored",
          "traceback": [
            "\u001b[0;36m  File \u001b[0;32m\"<ipython-input-77-70ddd2537a30>\"\u001b[0;36m, line \u001b[0;32m1\u001b[0m\n\u001b[0;31m    I'll\u001b[0m\n\u001b[0m        ^\u001b[0m\n\u001b[0;31mSyntaxError\u001b[0m\u001b[0;31m:\u001b[0m EOL while scanning string literal\n"
          ]
        }
      ]
    },
    {
      "cell_type": "code",
      "metadata": {
        "id": "r8JAmTzSLw-w"
      },
      "source": [
        ""
      ],
      "execution_count": null,
      "outputs": []
    }
  ]
}